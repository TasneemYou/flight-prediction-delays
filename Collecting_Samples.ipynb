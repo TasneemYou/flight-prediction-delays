{
 "cells": [
  {
   "cell_type": "code",
   "execution_count": 1,
   "id": "65a09a90",
   "metadata": {},
   "outputs": [],
   "source": [
    "import psycopg2"
   ]
  },
  {
   "cell_type": "code",
   "execution_count": 2,
   "id": "7e20087b",
   "metadata": {},
   "outputs": [],
   "source": [
    "# import pandas\n",
    "import pandas as pd\n",
    "\n",
    "# import sqlalchemy\n",
    "from sqlalchemy import create_engine"
   ]
  },
  {
   "cell_type": "code",
   "execution_count": 3,
   "id": "d53252eb",
   "metadata": {},
   "outputs": [],
   "source": [
    "# Create an engine instance\n",
    "alchemyEngine = create_engine('postgresql+psycopg2://lhl_student:lhl_student@\\\n",
    "mid-term-project.ca2jkepgjpne.us-east-2.rds.amazonaws.com:5432/mid_term_project')\n",
    " \n",
    "# Connect to PostgreSQL server\n",
    "dbConnection    = alchemyEngine.connect();"
   ]
  },
  {
   "cell_type": "code",
   "execution_count": 5,
   "id": "66a5cd34",
   "metadata": {},
   "outputs": [],
   "source": [
    "# Read data from PostgreSQL database table and load into a DataFrame instance\n",
    "#flights = pd.read_sql(\"SELECT * from flights order by random() LIMIT 500000\", dbConnection)\n",
    "#flights = pd.read_sql(\"SELECT * from flights LIMIT 10\", dbConnection)\n",
    "flights=pd.read_sql(\"SELECT * FROM flights TABLESAMPLE SYSTEM(2)\",dbConnection)\n",
    "#pd.read_sql(\"SELECT COUNT(*) FROM flights\",dbConnection)"
   ]
  },
  {
   "cell_type": "code",
   "execution_count": 6,
   "id": "9b5fa73c",
   "metadata": {
    "scrolled": true
   },
   "outputs": [
    {
     "data": {
      "text/plain": [
       "(324086, 42)"
      ]
     },
     "execution_count": 6,
     "metadata": {},
     "output_type": "execute_result"
    }
   ],
   "source": [
    "flights.shape"
   ]
  },
  {
   "cell_type": "code",
   "execution_count": 7,
   "id": "25fc289b",
   "metadata": {},
   "outputs": [],
   "source": [
    "passengers=pd.read_sql(\"SELECT * FROM passengers TABLESAMPLE SYSTEM(14)\",dbConnection)\n"
   ]
  },
  {
   "cell_type": "code",
   "execution_count": 8,
   "id": "56934203",
   "metadata": {
    "scrolled": false
   },
   "outputs": [
    {
     "data": {
      "text/plain": [
       "(330348, 38)"
      ]
     },
     "execution_count": 8,
     "metadata": {},
     "output_type": "execute_result"
    }
   ],
   "source": [
    "passengers.shape"
   ]
  },
  {
   "cell_type": "code",
   "execution_count": 9,
   "id": "bd9f7b7f",
   "metadata": {},
   "outputs": [],
   "source": [
    "fuel_consumption=pd.read_sql(\"SELECT * FROM fuel_comsumption\",dbConnection)\n"
   ]
  },
  {
   "cell_type": "code",
   "execution_count": 10,
   "id": "db6a0518",
   "metadata": {},
   "outputs": [
    {
     "data": {
      "text/plain": [
       "(3035, 25)"
      ]
     },
     "execution_count": 10,
     "metadata": {},
     "output_type": "execute_result"
    }
   ],
   "source": [
    "fuel_consumption.shape"
   ]
  },
  {
   "cell_type": "code",
   "execution_count": 11,
   "id": "66f50c55",
   "metadata": {},
   "outputs": [],
   "source": [
    "#Persist to CSV\n",
    "flights.to_csv('flights_sample.csv')\n",
    "passengers.to_csv('passengers_sample.csv')\n",
    "fuel_consumption.to_csv('fuel_consumption.csv')"
   ]
  },
  {
   "cell_type": "code",
   "execution_count": 4,
   "id": "1e92efab",
   "metadata": {
    "scrolled": true
   },
   "outputs": [
    {
     "data": {
      "text/html": [
       "<div>\n",
       "<style scoped>\n",
       "    .dataframe tbody tr th:only-of-type {\n",
       "        vertical-align: middle;\n",
       "    }\n",
       "\n",
       "    .dataframe tbody tr th {\n",
       "        vertical-align: top;\n",
       "    }\n",
       "\n",
       "    .dataframe thead th {\n",
       "        text-align: right;\n",
       "    }\n",
       "</style>\n",
       "<table border=\"1\" class=\"dataframe\">\n",
       "  <thead>\n",
       "    <tr style=\"text-align: right;\">\n",
       "      <th></th>\n",
       "      <th>fl_date</th>\n",
       "    </tr>\n",
       "  </thead>\n",
       "  <tbody>\n",
       "    <tr>\n",
       "      <th>0</th>\n",
       "      <td>2020-01-01</td>\n",
       "    </tr>\n",
       "    <tr>\n",
       "      <th>1</th>\n",
       "      <td>2020-01-01</td>\n",
       "    </tr>\n",
       "    <tr>\n",
       "      <th>2</th>\n",
       "      <td>2020-01-01</td>\n",
       "    </tr>\n",
       "    <tr>\n",
       "      <th>3</th>\n",
       "      <td>2020-01-01</td>\n",
       "    </tr>\n",
       "    <tr>\n",
       "      <th>4</th>\n",
       "      <td>2020-01-01</td>\n",
       "    </tr>\n",
       "    <tr>\n",
       "      <th>5</th>\n",
       "      <td>2020-01-01</td>\n",
       "    </tr>\n",
       "    <tr>\n",
       "      <th>6</th>\n",
       "      <td>2020-01-01</td>\n",
       "    </tr>\n",
       "    <tr>\n",
       "      <th>7</th>\n",
       "      <td>2020-01-01</td>\n",
       "    </tr>\n",
       "    <tr>\n",
       "      <th>8</th>\n",
       "      <td>2020-01-01</td>\n",
       "    </tr>\n",
       "    <tr>\n",
       "      <th>9</th>\n",
       "      <td>2020-01-01</td>\n",
       "    </tr>\n",
       "  </tbody>\n",
       "</table>\n",
       "</div>"
      ],
      "text/plain": [
       "     fl_date\n",
       "0 2020-01-01\n",
       "1 2020-01-01\n",
       "2 2020-01-01\n",
       "3 2020-01-01\n",
       "4 2020-01-01\n",
       "5 2020-01-01\n",
       "6 2020-01-01\n",
       "7 2020-01-01\n",
       "8 2020-01-01\n",
       "9 2020-01-01"
      ]
     },
     "execution_count": 4,
     "metadata": {},
     "output_type": "execute_result"
    }
   ],
   "source": [
    "pd.read_sql(\"SELECT fl_date FROM flights_test LIMIT 10\",dbConnection)"
   ]
  },
  {
   "cell_type": "code",
   "execution_count": 6,
   "id": "356ba7cb",
   "metadata": {},
   "outputs": [],
   "source": [
    "flights_test=pd.read_sql(\"SELECT * FROM flights_test WHERE fl_date IN ('2020-01-01','2020-01-02','2020-01-03',\\\n",
    "'2020-01-04','2020-01-05','2020-01-06','2020-01-07')\",dbConnection)"
   ]
  },
  {
   "cell_type": "code",
   "execution_count": 7,
   "id": "bff8d966",
   "metadata": {},
   "outputs": [
    {
     "data": {
      "text/plain": [
       "(150623, 20)"
      ]
     },
     "execution_count": 7,
     "metadata": {},
     "output_type": "execute_result"
    }
   ],
   "source": [
    "flights_test.shape"
   ]
  },
  {
   "cell_type": "code",
   "execution_count": 8,
   "id": "2f19c50a",
   "metadata": {},
   "outputs": [],
   "source": [
    "flights_test.to_csv('flights_test.csv')"
   ]
  }
 ],
 "metadata": {
  "kernelspec": {
   "display_name": "midproj_env",
   "language": "python",
   "name": "midproj_env"
  },
  "language_info": {
   "codemirror_mode": {
    "name": "ipython",
    "version": 3
   },
   "file_extension": ".py",
   "mimetype": "text/x-python",
   "name": "python",
   "nbconvert_exporter": "python",
   "pygments_lexer": "ipython3",
   "version": "3.8.12"
  }
 },
 "nbformat": 4,
 "nbformat_minor": 5
}
