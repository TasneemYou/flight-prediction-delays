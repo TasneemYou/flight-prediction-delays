{
 "cells": [
  {
   "cell_type": "code",
   "execution_count": 2,
   "id": "65a09a90",
   "metadata": {},
   "outputs": [],
   "source": [
    "import psycopg2"
   ]
  },
  {
   "cell_type": "code",
   "execution_count": 3,
   "id": "7e20087b",
   "metadata": {},
   "outputs": [],
   "source": [
    "# import pandas\n",
    "import pandas as pd\n",
    "\n",
    "# import sqlalchemy\n",
    "from sqlalchemy import create_engine"
   ]
  },
  {
   "cell_type": "code",
   "execution_count": 4,
   "id": "d53252eb",
   "metadata": {},
   "outputs": [],
   "source": [
    "# Create an engine instance\n",
    "alchemyEngine = create_engine('postgresql+psycopg2://lhl_student:lhl_student@\\\n",
    "mid-term-project.ca2jkepgjpne.us-east-2.rds.amazonaws.com:5432/mid_term_project')\n",
    " \n",
    "# Connect to PostgreSQL server\n",
    "dbConnection    = alchemyEngine.connect();"
   ]
  },
  {
   "cell_type": "code",
   "execution_count": 5,
   "id": "66a5cd34",
   "metadata": {},
   "outputs": [],
   "source": [
    "# Read data from PostgreSQL database table and load into a DataFrame instance\n",
    "#flights = pd.read_sql(\"SELECT * from flights order by random() LIMIT 500000\", dbConnection)\n",
    "#flights = pd.read_sql(\"SELECT * from flights LIMIT 10\", dbConnection)\n",
    "flights=pd.read_sql(\"SELECT * FROM flights TABLESAMPLE SYSTEM(2)\",dbConnection)\n",
    "#pd.read_sql(\"SELECT COUNT(*) FROM flights\",dbConnection)"
   ]
  },
  {
   "cell_type": "code",
   "execution_count": 6,
   "id": "9b5fa73c",
   "metadata": {
    "scrolled": true
   },
   "outputs": [
    {
     "data": {
      "text/plain": [
       "(324086, 42)"
      ]
     },
     "execution_count": 6,
     "metadata": {},
     "output_type": "execute_result"
    }
   ],
   "source": [
    "flights.shape"
   ]
  },
  {
   "cell_type": "code",
   "execution_count": 7,
   "id": "25fc289b",
   "metadata": {},
   "outputs": [],
   "source": [
    "passengers=pd.read_sql(\"SELECT * FROM passengers TABLESAMPLE SYSTEM(14)\",dbConnection)\n"
   ]
  },
  {
   "cell_type": "code",
   "execution_count": 8,
   "id": "56934203",
   "metadata": {
    "scrolled": false
   },
   "outputs": [
    {
     "data": {
      "text/plain": [
       "(330348, 38)"
      ]
     },
     "execution_count": 8,
     "metadata": {},
     "output_type": "execute_result"
    }
   ],
   "source": [
    "passengers.shape"
   ]
  },
  {
   "cell_type": "code",
   "execution_count": 9,
   "id": "bd9f7b7f",
   "metadata": {},
   "outputs": [],
   "source": [
    "fuel_consumption=pd.read_sql(\"SELECT * FROM fuel_comsumption\",dbConnection)\n"
   ]
  },
  {
   "cell_type": "code",
   "execution_count": 10,
   "id": "db6a0518",
   "metadata": {},
   "outputs": [
    {
     "data": {
      "text/plain": [
       "(3035, 25)"
      ]
     },
     "execution_count": 10,
     "metadata": {},
     "output_type": "execute_result"
    }
   ],
   "source": [
    "fuel_consumption.shape"
   ]
  },
  {
   "cell_type": "code",
   "execution_count": 11,
   "id": "66f50c55",
   "metadata": {},
   "outputs": [],
   "source": [
    "#Persist to CSV\n",
    "flights.to_csv('flights_sample.csv')\n",
    "passengers.to_csv('passengers_sample.csv')\n",
    "fuel_consumption.to_csv('fuel_consumption.csv')"
   ]
  },
  {
   "cell_type": "code",
   "execution_count": null,
   "id": "1e92efab",
   "metadata": {},
   "outputs": [],
   "source": []
  }
 ],
 "metadata": {
  "kernelspec": {
   "display_name": "midproj_env",
   "language": "python",
   "name": "midproj_env"
  },
  "language_info": {
   "codemirror_mode": {
    "name": "ipython",
    "version": 3
   },
   "file_extension": ".py",
   "mimetype": "text/x-python",
   "name": "python",
   "nbconvert_exporter": "python",
   "pygments_lexer": "ipython3",
   "version": "3.8.12"
  }
 },
 "nbformat": 4,
 "nbformat_minor": 5
}
